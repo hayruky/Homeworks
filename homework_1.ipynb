{
 "cells": [
  {
   "cell_type": "markdown",
   "id": "94a7407a-557d-4cce-b0ce-628abc166d73",
   "metadata": {},
   "source": [
    "### HOMEWORK-1 21/09/2024"
   ]
  },
  {
   "cell_type": "markdown",
   "id": "3b68fb92-9efa-4f88-9c14-e8420298bc96",
   "metadata": {},
   "source": [
    "**SORU-1:** Bir liste oluşturunuz.Listenin ilk yarısı ile ikinci yarısını yer değiştirip listeyi ekrana yazdırınız.\n",
    "\n",
    "**Açıklama:**\n",
    "\n",
    "**a=[10,20,30,40,50,60,70,80,90,100]**\n",
    "\n",
    "a listesi şu hale getirilmelidir:\n",
    "\n",
    "**a=[60,70,80,90,100,10,20,30,40,50]**\n",
    "\n",
    "Liste tek sayıda eleman sayısına sahip olabilir.Bu durumda ortadaki eleman değişimden etkilenmemelidir."
   ]
  },
  {
   "cell_type": "code",
   "execution_count": 183,
   "id": "087587c0-5b00-47fc-9333-ddf48199910c",
   "metadata": {},
   "outputs": [
    {
     "name": "stdout",
     "output_type": "stream",
     "text": [
      "[10, 20, 30, 40, 50, 60, 70, 80, 90, 100]\n",
      "5.0\n",
      "5\n",
      "5\n",
      "[60, 70, 80, 90, 100, 10, 20, 30, 40, 50]\n"
     ]
    }
   ],
   "source": [
    "import math\n",
    "a=[10,20,30,40,50,60,70,80,90,100]\n",
    "print(a)\n",
    "x=(len(a)/2)\n",
    "print(x)\n",
    "f=math.floor(x)\n",
    "c=math.ceil(x)\n",
    "print(f)\n",
    "print(c)\n",
    "a[:f],a[c:]=a[c:],a[:f]\n",
    "print(a)"
   ]
  },
  {
   "cell_type": "code",
   "execution_count": 181,
   "id": "3d40fccb-1822-415c-878d-0cad4e52c831",
   "metadata": {},
   "outputs": [
    {
     "name": "stdout",
     "output_type": "stream",
     "text": [
      "[0, 10, 20, 30, 40, 50, 60, 70, 80, 90, 100]\n",
      "5.5\n",
      "5\n",
      "6\n",
      "[60, 70, 80, 90, 100, 50, 0, 10, 20, 30, 40]\n"
     ]
    }
   ],
   "source": [
    "a=[0,10,20,30,40,50,60,70,80,90,100]\n",
    "#60,70,80,90,100,50,0,10,20,30,40]\n",
    "print(a)\n",
    "x=(len(a)/2)\n",
    "print(x)\n",
    "f=math.floor(x)\n",
    "c=math.ceil(x)\n",
    "print(f)\n",
    "print(c)\n",
    "a[:f],a[c:]=a[c:],a[:f]\n",
    "print(a)"
   ]
  },
  {
   "cell_type": "markdown",
   "id": "7e500cd4-8955-4a41-8c14-f962c3aa3a1c",
   "metadata": {},
   "source": [
    "**SORU-2:** Klavyeden tek basamaklı bir int sayı okuyunuz.(Bu rakam n ile temsil edilsin.) Aşağıdaki toplamı yazdırınız:\n",
    "\n",
    "**n + nn + nnn + nnnn + nnnnn**\n",
    "\n",
    "ÖRNEĞİN:\n",
    "\n",
    "Girdiğimiz sayı 3 olsun:\n",
    "\n",
    "3+33+333+3333+33333 toplamını yazdırınız."
   ]
  },
  {
   "cell_type": "code",
   "execution_count": 312,
   "id": "46818ae4-8ee5-4b08-a520-d07af7a319fc",
   "metadata": {},
   "outputs": [
    {
     "name": "stdin",
     "output_type": "stream",
     "text": [
      "Tek basamaklı bir sayı giriniz: 3\n"
     ]
    }
   ],
   "source": [
    "n=str(input(\"Tek basamaklı bir sayı giriniz:\"))"
   ]
  },
  {
   "cell_type": "code",
   "execution_count": 314,
   "id": "dc7dd246-de92-4cc5-965a-aa0e2d9c5150",
   "metadata": {},
   "outputs": [
    {
     "name": "stdout",
     "output_type": "stream",
     "text": [
      "37035\n"
     ]
    }
   ],
   "source": [
    "toplam=int(n)+int(n*2)+int(n*3)+int(n*4)+int(n*5)\n",
    "print(toplam)"
   ]
  },
  {
   "cell_type": "code",
   "execution_count": null,
   "id": "6d74164c-3b5a-423f-a8f1-8f966429332f",
   "metadata": {},
   "outputs": [],
   "source": []
  }
 ],
 "metadata": {
  "kernelspec": {
   "display_name": "Python 3 (ipykernel)",
   "language": "python",
   "name": "python3"
  },
  "language_info": {
   "codemirror_mode": {
    "name": "ipython",
    "version": 3
   },
   "file_extension": ".py",
   "mimetype": "text/x-python",
   "name": "python",
   "nbconvert_exporter": "python",
   "pygments_lexer": "ipython3",
   "version": "3.12.4"
  }
 },
 "nbformat": 4,
 "nbformat_minor": 5
}
